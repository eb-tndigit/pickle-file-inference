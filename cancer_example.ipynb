{
 "cells": [
  {
   "cell_type": "code",
   "execution_count": null,
   "id": "d844586b-21cb-47dd-80da-420614aa03f9",
   "metadata": {},
   "outputs": [
    {
     "name": "stdout",
     "output_type": "stream",
     "text": [
      "pip 23.1.2 from /opt/conda/lib/python3.10/site-packages/pip (python 3.10)\n"
     ]
    }
   ],
   "source": [
    "!pip --version"
   ]
  },
  {
   "cell_type": "code",
   "execution_count": 15,
   "id": "ba2dc2be-a4e4-4db1-ad65-d6961882a3ba",
   "metadata": {},
   "outputs": [
    {
     "name": "stdout",
     "output_type": "stream",
     "text": [
      "README.md  Untitled.ipynb  untitled.txt\n"
     ]
    }
   ],
   "source": [
    "!ls pickle-file-inference"
   ]
  },
  {
   "cell_type": "code",
   "execution_count": 1,
   "id": "87b36de9-7f7b-477c-ad96-23fdc14c3d28",
   "metadata": {},
   "outputs": [
    {
     "name": "stdout",
     "output_type": "stream",
     "text": [
      "Python 3.10.11\n"
     ]
    }
   ],
   "source": [
    "!python --version"
   ]
  },
  {
   "cell_type": "code",
   "execution_count": 1,
   "id": "f86124a5-80b0-4ebf-84af-87e9e9b15fa2",
   "metadata": {},
   "outputs": [],
   "source": [
    "import digitalhub as dh\n",
    "\n",
    "project = dh.get_or_create_project(\"test\")"
   ]
  },
  {
   "cell_type": "code",
   "execution_count": 2,
   "id": "2b01b615-b6f1-4245-bc39-08a1574c5380",
   "metadata": {},
   "outputs": [],
   "source": [
    "from pathlib import Path\n",
    "Path(\"src\").mkdir(exist_ok=True)"
   ]
  },
  {
   "cell_type": "code",
   "execution_count": 3,
   "id": "dc4e0b56-a6f4-4c56-9e7d-d3ec03392046",
   "metadata": {},
   "outputs": [
    {
     "name": "stdout",
     "output_type": "stream",
     "text": [
      "Writing src/data-prep.py\n"
     ]
    }
   ],
   "source": [
    "%%writefile \"src/data-prep.py\"\n",
    "\n",
    "import pandas as pd\n",
    "from sklearn.datasets import load_breast_cancer\n",
    "\n",
    "from digitalhub_runtime_python import handler\n",
    "\n",
    "@handler(outputs=[\"dataset\"])\n",
    "def breast_cancer_generator():\n",
    "    \"\"\"\n",
    "    A function which generates the breast cancer dataset\n",
    "    \"\"\"\n",
    "    breast_cancer = load_breast_cancer()\n",
    "    breast_cancer_dataset = pd.DataFrame(\n",
    "        data=breast_cancer.data, columns=breast_cancer.feature_names\n",
    "    )\n",
    "    breast_cancer_labels = pd.DataFrame(data=breast_cancer.target, columns=[\"target\"])\n",
    "    breast_cancer_dataset = pd.concat(\n",
    "        [breast_cancer_dataset, breast_cancer_labels], axis=1\n",
    "    )\n",
    "\n",
    "    return breast_cancer_dataset"
   ]
  },
  {
   "cell_type": "code",
   "execution_count": 4,
   "id": "cf3182e6-9ce4-4b69-8012-e25c15d9271d",
   "metadata": {},
   "outputs": [],
   "source": [
    "data_gen_fn = project.new_function(name=\"data-prep\",\n",
    "                                   kind=\"python\",\n",
    "                                   python_version=\"PYTHON3_10\",\n",
    "                                   code_src=\"src/data-prep.py\",\n",
    "                                   handler=\"breast_cancer_generator\")"
   ]
  },
  {
   "cell_type": "code",
   "execution_count": 5,
   "id": "e5ee8dc9-75a1-4ca4-9c6d-fe25f82a2adb",
   "metadata": {},
   "outputs": [
    {
     "name": "stderr",
     "output_type": "stream",
     "text": [
      "2025-03-12 14:02:17,525 - INFO - Validating task.\n",
      "2025-03-12 14:02:17,526 - INFO - Validating run.\n",
      "2025-03-12 14:02:17,526 - INFO - Starting task.\n",
      "2025-03-12 14:02:17,527 - INFO - Configuring execution.\n",
      "2025-03-12 14:02:18,166 - INFO - Composing function arguments.\n",
      "2025-03-12 14:02:18,167 - INFO - Executing run.\n",
      "2025-03-12 14:02:18,526 - INFO - Task completed, returning run status.\n"
     ]
    }
   ],
   "source": [
    "gen_data_run = data_gen_fn.run(\"job\", local_execution=True)"
   ]
  },
  {
   "cell_type": "code",
   "execution_count": 6,
   "id": "18925872-f05f-45bd-8caa-26580b1bd956",
   "metadata": {},
   "outputs": [
    {
     "data": {
      "text/html": [
       "<div>\n",
       "<style scoped>\n",
       "    .dataframe tbody tr th:only-of-type {\n",
       "        vertical-align: middle;\n",
       "    }\n",
       "\n",
       "    .dataframe tbody tr th {\n",
       "        vertical-align: top;\n",
       "    }\n",
       "\n",
       "    .dataframe thead th {\n",
       "        text-align: right;\n",
       "    }\n",
       "</style>\n",
       "<table border=\"1\" class=\"dataframe\">\n",
       "  <thead>\n",
       "    <tr style=\"text-align: right;\">\n",
       "      <th></th>\n",
       "      <th>mean radius</th>\n",
       "      <th>mean texture</th>\n",
       "      <th>mean perimeter</th>\n",
       "      <th>mean area</th>\n",
       "      <th>mean smoothness</th>\n",
       "      <th>mean compactness</th>\n",
       "      <th>mean concavity</th>\n",
       "      <th>mean concave points</th>\n",
       "      <th>mean symmetry</th>\n",
       "      <th>mean fractal dimension</th>\n",
       "      <th>...</th>\n",
       "      <th>worst texture</th>\n",
       "      <th>worst perimeter</th>\n",
       "      <th>worst area</th>\n",
       "      <th>worst smoothness</th>\n",
       "      <th>worst compactness</th>\n",
       "      <th>worst concavity</th>\n",
       "      <th>worst concave points</th>\n",
       "      <th>worst symmetry</th>\n",
       "      <th>worst fractal dimension</th>\n",
       "      <th>target</th>\n",
       "    </tr>\n",
       "  </thead>\n",
       "  <tbody>\n",
       "    <tr>\n",
       "      <th>0</th>\n",
       "      <td>17.99</td>\n",
       "      <td>10.38</td>\n",
       "      <td>122.80</td>\n",
       "      <td>1001.0</td>\n",
       "      <td>0.11840</td>\n",
       "      <td>0.27760</td>\n",
       "      <td>0.3001</td>\n",
       "      <td>0.14710</td>\n",
       "      <td>0.2419</td>\n",
       "      <td>0.07871</td>\n",
       "      <td>...</td>\n",
       "      <td>17.33</td>\n",
       "      <td>184.60</td>\n",
       "      <td>2019.0</td>\n",
       "      <td>0.1622</td>\n",
       "      <td>0.6656</td>\n",
       "      <td>0.7119</td>\n",
       "      <td>0.2654</td>\n",
       "      <td>0.4601</td>\n",
       "      <td>0.11890</td>\n",
       "      <td>0</td>\n",
       "    </tr>\n",
       "    <tr>\n",
       "      <th>1</th>\n",
       "      <td>20.57</td>\n",
       "      <td>17.77</td>\n",
       "      <td>132.90</td>\n",
       "      <td>1326.0</td>\n",
       "      <td>0.08474</td>\n",
       "      <td>0.07864</td>\n",
       "      <td>0.0869</td>\n",
       "      <td>0.07017</td>\n",
       "      <td>0.1812</td>\n",
       "      <td>0.05667</td>\n",
       "      <td>...</td>\n",
       "      <td>23.41</td>\n",
       "      <td>158.80</td>\n",
       "      <td>1956.0</td>\n",
       "      <td>0.1238</td>\n",
       "      <td>0.1866</td>\n",
       "      <td>0.2416</td>\n",
       "      <td>0.1860</td>\n",
       "      <td>0.2750</td>\n",
       "      <td>0.08902</td>\n",
       "      <td>0</td>\n",
       "    </tr>\n",
       "    <tr>\n",
       "      <th>2</th>\n",
       "      <td>19.69</td>\n",
       "      <td>21.25</td>\n",
       "      <td>130.00</td>\n",
       "      <td>1203.0</td>\n",
       "      <td>0.10960</td>\n",
       "      <td>0.15990</td>\n",
       "      <td>0.1974</td>\n",
       "      <td>0.12790</td>\n",
       "      <td>0.2069</td>\n",
       "      <td>0.05999</td>\n",
       "      <td>...</td>\n",
       "      <td>25.53</td>\n",
       "      <td>152.50</td>\n",
       "      <td>1709.0</td>\n",
       "      <td>0.1444</td>\n",
       "      <td>0.4245</td>\n",
       "      <td>0.4504</td>\n",
       "      <td>0.2430</td>\n",
       "      <td>0.3613</td>\n",
       "      <td>0.08758</td>\n",
       "      <td>0</td>\n",
       "    </tr>\n",
       "    <tr>\n",
       "      <th>3</th>\n",
       "      <td>11.42</td>\n",
       "      <td>20.38</td>\n",
       "      <td>77.58</td>\n",
       "      <td>386.1</td>\n",
       "      <td>0.14250</td>\n",
       "      <td>0.28390</td>\n",
       "      <td>0.2414</td>\n",
       "      <td>0.10520</td>\n",
       "      <td>0.2597</td>\n",
       "      <td>0.09744</td>\n",
       "      <td>...</td>\n",
       "      <td>26.50</td>\n",
       "      <td>98.87</td>\n",
       "      <td>567.7</td>\n",
       "      <td>0.2098</td>\n",
       "      <td>0.8663</td>\n",
       "      <td>0.6869</td>\n",
       "      <td>0.2575</td>\n",
       "      <td>0.6638</td>\n",
       "      <td>0.17300</td>\n",
       "      <td>0</td>\n",
       "    </tr>\n",
       "    <tr>\n",
       "      <th>4</th>\n",
       "      <td>20.29</td>\n",
       "      <td>14.34</td>\n",
       "      <td>135.10</td>\n",
       "      <td>1297.0</td>\n",
       "      <td>0.10030</td>\n",
       "      <td>0.13280</td>\n",
       "      <td>0.1980</td>\n",
       "      <td>0.10430</td>\n",
       "      <td>0.1809</td>\n",
       "      <td>0.05883</td>\n",
       "      <td>...</td>\n",
       "      <td>16.67</td>\n",
       "      <td>152.20</td>\n",
       "      <td>1575.0</td>\n",
       "      <td>0.1374</td>\n",
       "      <td>0.2050</td>\n",
       "      <td>0.4000</td>\n",
       "      <td>0.1625</td>\n",
       "      <td>0.2364</td>\n",
       "      <td>0.07678</td>\n",
       "      <td>0</td>\n",
       "    </tr>\n",
       "  </tbody>\n",
       "</table>\n",
       "<p>5 rows × 31 columns</p>\n",
       "</div>"
      ],
      "text/plain": [
       "   mean radius  mean texture  mean perimeter  mean area  mean smoothness  \\\n",
       "0        17.99         10.38          122.80     1001.0          0.11840   \n",
       "1        20.57         17.77          132.90     1326.0          0.08474   \n",
       "2        19.69         21.25          130.00     1203.0          0.10960   \n",
       "3        11.42         20.38           77.58      386.1          0.14250   \n",
       "4        20.29         14.34          135.10     1297.0          0.10030   \n",
       "\n",
       "   mean compactness  mean concavity  mean concave points  mean symmetry  \\\n",
       "0           0.27760          0.3001              0.14710         0.2419   \n",
       "1           0.07864          0.0869              0.07017         0.1812   \n",
       "2           0.15990          0.1974              0.12790         0.2069   \n",
       "3           0.28390          0.2414              0.10520         0.2597   \n",
       "4           0.13280          0.1980              0.10430         0.1809   \n",
       "\n",
       "   mean fractal dimension  ...  worst texture  worst perimeter  worst area  \\\n",
       "0                 0.07871  ...          17.33           184.60      2019.0   \n",
       "1                 0.05667  ...          23.41           158.80      1956.0   \n",
       "2                 0.05999  ...          25.53           152.50      1709.0   \n",
       "3                 0.09744  ...          26.50            98.87       567.7   \n",
       "4                 0.05883  ...          16.67           152.20      1575.0   \n",
       "\n",
       "   worst smoothness  worst compactness  worst concavity  worst concave points  \\\n",
       "0            0.1622             0.6656           0.7119                0.2654   \n",
       "1            0.1238             0.1866           0.2416                0.1860   \n",
       "2            0.1444             0.4245           0.4504                0.2430   \n",
       "3            0.2098             0.8663           0.6869                0.2575   \n",
       "4            0.1374             0.2050           0.4000                0.1625   \n",
       "\n",
       "   worst symmetry  worst fractal dimension  target  \n",
       "0          0.4601                  0.11890       0  \n",
       "1          0.2750                  0.08902       0  \n",
       "2          0.3613                  0.08758       0  \n",
       "3          0.6638                  0.17300       0  \n",
       "4          0.2364                  0.07678       0  \n",
       "\n",
       "[5 rows x 31 columns]"
      ]
     },
     "execution_count": 6,
     "metadata": {},
     "output_type": "execute_result"
    }
   ],
   "source": [
    "gen_data_run.output(\"dataset\").as_df().head()"
   ]
  },
  {
   "cell_type": "code",
   "execution_count": 7,
   "id": "667fd984-dc38-4ca8-937d-59316c77834a",
   "metadata": {},
   "outputs": [
    {
     "name": "stdout",
     "output_type": "stream",
     "text": [
      "Writing src/train-model.py\n"
     ]
    }
   ],
   "source": [
    "%%writefile \"src/train-model.py\"\n",
    "\n",
    "\n",
    "import pandas as pd\n",
    "from sklearn.datasets import load_breast_cancer\n",
    "from sklearn.model_selection import train_test_split\n",
    "\n",
    "from digitalhub_runtime_python import handler\n",
    "from sklearn.svm import SVC\n",
    "from pickle import dump\n",
    "import sklearn.metrics\n",
    "import os\n",
    "\n",
    "@handler(outputs=[\"model\"])\n",
    "def train(project, di):\n",
    "\n",
    "    df_cancer = di.as_df()\n",
    "    X = df_cancer.drop(['target'],axis=1)\n",
    "    y = df_cancer['target']\n",
    "    X_train, X_test, y_train, y_test = train_test_split(X, y, test_size = 0.20, random_state=5)\n",
    "    svc_model = SVC()\n",
    "    svc_model.fit(X_train, y_train)\n",
    "    y_predict = svc_model.predict(X_test)\n",
    "\n",
    "    if not os.path.exists(\"model\"):\n",
    "        os.makedirs(\"model\")\n",
    "\n",
    "    with open(\"model/cancer_classifier.pkl\", \"wb\") as f:\n",
    "        dump(svc_model, f, protocol=5)\n",
    "\n",
    "    metrics = {\n",
    "        \"f1_score\": sklearn.metrics.f1_score(y_test, y_predict),\n",
    "        \"accuracy\": sklearn.metrics.accuracy_score(y_test, y_predict),\n",
    "        \"precision\": sklearn.metrics.precision_score(y_test, y_predict),\n",
    "        \"recall\": sklearn.metrics.recall_score(y_test, y_predict),\n",
    "    }\n",
    "    return project.log_model(name=\"cancer_classifier\",\n",
    "                             kind=\"sklearn\",\n",
    "                             source=\"./model/\",\n",
    "                             metrics=metrics)"
   ]
  },
  {
   "cell_type": "code",
   "execution_count": 8,
   "id": "4504b4a9-89f7-42e0-9f67-6f5c25710c09",
   "metadata": {},
   "outputs": [],
   "source": [
    "train_fn = project.new_function(name=\"train\",\n",
    "                                kind=\"python\",\n",
    "                                python_version=\"PYTHON3_10\",\n",
    "                                code_src=\"src/train-model.py\",\n",
    "                                handler=\"train\",\n",
    "                                requirements=[\"scikit-learn==1.2.2\"])"
   ]
  },
  {
   "cell_type": "code",
   "execution_count": 10,
   "id": "4efd0d4a-e738-4078-a41b-26859e21ac16",
   "metadata": {},
   "outputs": [
    {
     "name": "stderr",
     "output_type": "stream",
     "text": [
      "2025-03-12 14:19:38,120 - INFO - Validating task.\n",
      "2025-03-12 14:19:38,121 - INFO - Validating run.\n",
      "2025-03-12 14:19:38,121 - INFO - Starting task.\n",
      "2025-03-12 14:19:38,122 - INFO - Configuring execution.\n",
      "2025-03-12 14:19:38,651 - INFO - Composing function arguments.\n",
      "2025-03-12 14:19:38,678 - INFO - Executing run.\n",
      "2025-03-12 14:19:39,180 - INFO - Task completed, returning run status.\n"
     ]
    }
   ],
   "source": [
    "train_run = train_fn.run(action=\"job\",\n",
    "                         inputs={\"di\": gen_data_run.output(\"dataset\").key},\n",
    "                         local_execution=True)"
   ]
  },
  {
   "cell_type": "code",
   "execution_count": 11,
   "id": "8bf6da10-435e-4f72-9821-3d26fba71a67",
   "metadata": {},
   "outputs": [
    {
     "data": {
      "text/plain": [
       "'s3://datalake/test/model/cancer_classifier/03f2564e310f4ba9a898b7887e01511b/'"
      ]
     },
     "execution_count": 11,
     "metadata": {},
     "output_type": "execute_result"
    }
   ],
   "source": [
    "model = train_run.output(\"model\")\n",
    "model.spec.path"
   ]
  },
  {
   "cell_type": "code",
   "execution_count": 12,
   "id": "c408e99f-0f07-4a71-aefd-a03c924d50bb",
   "metadata": {},
   "outputs": [
    {
     "name": "stderr",
     "output_type": "stream",
     "text": [
      "2025-03-12 14:20:06,466 - INFO - Waiting for run 7da4c84d64da4ab08b764c1bc761fc26 to deploy service.\n",
      "2025-03-12 14:20:11,477 - INFO - Waiting for run 7da4c84d64da4ab08b764c1bc761fc26 to deploy service.\n",
      "2025-03-12 14:20:16,500 - INFO - Waiting for run 7da4c84d64da4ab08b764c1bc761fc26 to deploy service.\n",
      "2025-03-12 14:20:21,510 - INFO - Waiting for run 7da4c84d64da4ab08b764c1bc761fc26 to deploy service.\n",
      "2025-03-12 14:20:26,524 - INFO - Waiting for run 7da4c84d64da4ab08b764c1bc761fc26 to deploy service.\n",
      "2025-03-12 14:20:31,538 - INFO - Waiting for run 7da4c84d64da4ab08b764c1bc761fc26 to deploy service.\n",
      "2025-03-12 14:20:36,551 - INFO - Waiting for run 7da4c84d64da4ab08b764c1bc761fc26 to deploy service.\n",
      "2025-03-12 14:20:41,567 - INFO - Waiting for run 7da4c84d64da4ab08b764c1bc761fc26 to deploy service.\n",
      "2025-03-12 14:20:46,582 - INFO - Waiting for run 7da4c84d64da4ab08b764c1bc761fc26 to deploy service.\n",
      "2025-03-12 14:20:51,596 - INFO - Waiting for run 7da4c84d64da4ab08b764c1bc761fc26 to deploy service.\n",
      "2025-03-12 14:20:56,608 - INFO - Waiting for run 7da4c84d64da4ab08b764c1bc761fc26 to deploy service.\n",
      "2025-03-12 14:20:56,618 - INFO - Run 7da4c84d64da4ab08b764c1bc761fc26 service deployed.\n"
     ]
    }
   ],
   "source": [
    "func = project.new_function(name=\"serve_sklearnmodel\",\n",
    "                            kind=\"sklearnserve\",\n",
    "                            path=model.spec.path + 'cancer_classifier.pkl')\n",
    "\n",
    "serve_run = func.run(\"serve\", wait=True)"
   ]
  },
  {
   "cell_type": "code",
   "execution_count": 13,
   "id": "6d20b38c-da50-4323-9fbd-15a998ff1a09",
   "metadata": {},
   "outputs": [],
   "source": [
    "import numpy as np\n",
    "\n",
    "data = np.random.rand(2, 30).tolist()\n",
    "json = {\n",
    "    \"inputs\": [\n",
    "        {\n",
    "        \"name\": \"input-0\",\n",
    "        \"shape\": [2, 30],\n",
    "        \"datatype\": \"FP32\",\n",
    "        \"data\": data\n",
    "        }\n",
    "    ]\n",
    "}"
   ]
  },
  {
   "cell_type": "code",
   "execution_count": 14,
   "id": "98b5527b-c4d1-49c2-bf4d-cd17b7fdd7e0",
   "metadata": {},
   "outputs": [
    {
     "data": {
      "text/plain": [
       "{'model_name': 'model',\n",
       " 'id': 'c8f7f3bb-bbbf-4952-96e5-b74ab974c670',\n",
       " 'parameters': {},\n",
       " 'outputs': [{'name': 'predict',\n",
       "   'shape': [2, 1],\n",
       "   'datatype': 'INT64',\n",
       "   'parameters': {'content_type': 'np'},\n",
       "   'data': [1, 1]}]}"
      ]
     },
     "execution_count": 14,
     "metadata": {},
     "output_type": "execute_result"
    }
   ],
   "source": [
    "serve_run.invoke(json=json).json()"
   ]
  },
  {
   "cell_type": "code",
   "execution_count": null,
   "id": "d03cf5fd-0e43-4406-961e-4391c99a3c4e",
   "metadata": {},
   "outputs": [],
   "source": []
  }
 ],
 "metadata": {
  "kernelspec": {
   "display_name": "Python 3 (ipykernel)",
   "language": "python",
   "name": "python3"
  },
  "language_info": {
   "codemirror_mode": {
    "name": "ipython",
    "version": 3
   },
   "file_extension": ".py",
   "mimetype": "text/x-python",
   "name": "python",
   "nbconvert_exporter": "python",
   "pygments_lexer": "ipython3",
   "version": "3.10.11"
  }
 },
 "nbformat": 4,
 "nbformat_minor": 5
}
